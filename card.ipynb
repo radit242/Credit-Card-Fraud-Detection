{
 "cells": [
  {
   "cell_type": "markdown",
   "metadata": {},
   "source": [
    "Introduction \n",
    "\n",
    "Credit card fraud is a major concern for banks and financial institutions. Fraudsters use various techniques to steal credit card information and make unauthorized transactions. In this project, we will explore a dataset containing credit card transactions and build models to predict fraudulent transactions.\n",
    "\n",
    "We will use the Kaggle dataset Credit Card Fraud Detection which contains credit card transactions made by European cardholders. The dataset consists of 284,807 transactions, out of which 492 are fraudulent. The data contains only numerical input variables which are a result of Principal Component Analysis (PCA) transformations due to confidentiality issues. The features include 'Time', 'Amount', and 'V1' through 'V28', as well as the 'Class' variable, which is the target variable indicating whether the transaction is fraudulent (1) or not (0).\n",
    "\n",
    "In this project, we will start with exploratory data analysis (EDA) to get a better understanding of the data. Next, we will perform data processing and modeling, where we will build several classification models to predict fraudulent transactions. We will also address the issue of imbalanced classes by using undersampling. Finally, we will evaluate the performance of the models and choose the best one based on various evaluation metrics such as precision, recall, F1-score, and accuracy."
   ]
  },
  {
   "cell_type": "code",
   "execution_count": 3,
   "metadata": {},
   "outputs": [],
   "source": [
    "# Import necessary libraries\n",
    "%matplotlib inline\n",
    "import scipy.stats as stats\n",
    "import numpy as np\n",
    "import pandas as pd\n",
    "import matplotlib.pyplot as plt\n",
    "import seaborn as sns\n",
    "\n",
    "from sklearn.preprocessing import StandardScaler\n",
    "from sklearn.model_selection import train_test_split\n",
    "\n",
    "\n",
    "from imblearn.under_sampling import RandomUnderSampler\n",
    "from imblearn.over_sampling import RandomOverSampler\n",
    "\n",
    "from sklearn import linear_model\n",
    "from sklearn.model_selection import GridSearchCV\n",
    "from sklearn.model_selection import RandomizedSearchCV\n",
    "\n",
    "\n",
    "import sklearn.metrics as metrics\n",
    "from sklearn.metrics import confusion_matrix\n",
    "from sklearn.metrics import precision_score, recall_score, precision_recall_curve, f1_score, fbeta_score, accuracy_score\n",
    "from sklearn.metrics import roc_auc_score, roc_curve, classification_report\n",
    "from sklearn.model_selection import cross_val_score\n",
    "\n",
    "\n",
    "from sklearn.linear_model import LogisticRegression\n",
    "from sklearn.ensemble import RandomForestClassifier\n",
    "from sklearn import svm\n",
    "import xgboost as xgb\n",
    "from xgboost import XGBClassifier\n",
    "\n",
    "#import sqrt\n",
    "from math import sqrt\n",
    "\n"
   ]
  },
  {
   "cell_type": "markdown",
   "metadata": {},
   "source": [
    "Exploratory Data Analysis\n",
    "\n",
    "This part of analysis includes \n",
    "1. loading the csv file in a dataframe \n",
    "2. observing its shape\n",
    "3. getting anover view of the types of data and observing if there is any null value present\n",
    "4. getting a statistical inside of each coloums "
   ]
  },
  {
   "cell_type": "code",
   "execution_count": 4,
   "metadata": {},
   "outputs": [
    {
     "data": {
      "text/html": [
       "<div>\n",
       "<style scoped>\n",
       "    .dataframe tbody tr th:only-of-type {\n",
       "        vertical-align: middle;\n",
       "    }\n",
       "\n",
       "    .dataframe tbody tr th {\n",
       "        vertical-align: top;\n",
       "    }\n",
       "\n",
       "    .dataframe thead th {\n",
       "        text-align: right;\n",
       "    }\n",
       "</style>\n",
       "<table border=\"1\" class=\"dataframe\">\n",
       "  <thead>\n",
       "    <tr style=\"text-align: right;\">\n",
       "      <th></th>\n",
       "      <th>Time</th>\n",
       "      <th>V1</th>\n",
       "      <th>V2</th>\n",
       "      <th>V3</th>\n",
       "      <th>V4</th>\n",
       "      <th>V5</th>\n",
       "      <th>V6</th>\n",
       "      <th>V7</th>\n",
       "      <th>V8</th>\n",
       "      <th>V9</th>\n",
       "      <th>...</th>\n",
       "      <th>V21</th>\n",
       "      <th>V22</th>\n",
       "      <th>V23</th>\n",
       "      <th>V24</th>\n",
       "      <th>V25</th>\n",
       "      <th>V26</th>\n",
       "      <th>V27</th>\n",
       "      <th>V28</th>\n",
       "      <th>Amount</th>\n",
       "      <th>Class</th>\n",
       "    </tr>\n",
       "  </thead>\n",
       "  <tbody>\n",
       "    <tr>\n",
       "      <th>0</th>\n",
       "      <td>0.0</td>\n",
       "      <td>-1.359807</td>\n",
       "      <td>-0.072781</td>\n",
       "      <td>2.536347</td>\n",
       "      <td>1.378155</td>\n",
       "      <td>-0.338321</td>\n",
       "      <td>0.462388</td>\n",
       "      <td>0.239599</td>\n",
       "      <td>0.098698</td>\n",
       "      <td>0.363787</td>\n",
       "      <td>...</td>\n",
       "      <td>-0.018307</td>\n",
       "      <td>0.277838</td>\n",
       "      <td>-0.110474</td>\n",
       "      <td>0.066928</td>\n",
       "      <td>0.128539</td>\n",
       "      <td>-0.189115</td>\n",
       "      <td>0.133558</td>\n",
       "      <td>-0.021053</td>\n",
       "      <td>149.62</td>\n",
       "      <td>0</td>\n",
       "    </tr>\n",
       "    <tr>\n",
       "      <th>1</th>\n",
       "      <td>0.0</td>\n",
       "      <td>1.191857</td>\n",
       "      <td>0.266151</td>\n",
       "      <td>0.166480</td>\n",
       "      <td>0.448154</td>\n",
       "      <td>0.060018</td>\n",
       "      <td>-0.082361</td>\n",
       "      <td>-0.078803</td>\n",
       "      <td>0.085102</td>\n",
       "      <td>-0.255425</td>\n",
       "      <td>...</td>\n",
       "      <td>-0.225775</td>\n",
       "      <td>-0.638672</td>\n",
       "      <td>0.101288</td>\n",
       "      <td>-0.339846</td>\n",
       "      <td>0.167170</td>\n",
       "      <td>0.125895</td>\n",
       "      <td>-0.008983</td>\n",
       "      <td>0.014724</td>\n",
       "      <td>2.69</td>\n",
       "      <td>0</td>\n",
       "    </tr>\n",
       "    <tr>\n",
       "      <th>2</th>\n",
       "      <td>1.0</td>\n",
       "      <td>-1.358354</td>\n",
       "      <td>-1.340163</td>\n",
       "      <td>1.773209</td>\n",
       "      <td>0.379780</td>\n",
       "      <td>-0.503198</td>\n",
       "      <td>1.800499</td>\n",
       "      <td>0.791461</td>\n",
       "      <td>0.247676</td>\n",
       "      <td>-1.514654</td>\n",
       "      <td>...</td>\n",
       "      <td>0.247998</td>\n",
       "      <td>0.771679</td>\n",
       "      <td>0.909412</td>\n",
       "      <td>-0.689281</td>\n",
       "      <td>-0.327642</td>\n",
       "      <td>-0.139097</td>\n",
       "      <td>-0.055353</td>\n",
       "      <td>-0.059752</td>\n",
       "      <td>378.66</td>\n",
       "      <td>0</td>\n",
       "    </tr>\n",
       "    <tr>\n",
       "      <th>3</th>\n",
       "      <td>1.0</td>\n",
       "      <td>-0.966272</td>\n",
       "      <td>-0.185226</td>\n",
       "      <td>1.792993</td>\n",
       "      <td>-0.863291</td>\n",
       "      <td>-0.010309</td>\n",
       "      <td>1.247203</td>\n",
       "      <td>0.237609</td>\n",
       "      <td>0.377436</td>\n",
       "      <td>-1.387024</td>\n",
       "      <td>...</td>\n",
       "      <td>-0.108300</td>\n",
       "      <td>0.005274</td>\n",
       "      <td>-0.190321</td>\n",
       "      <td>-1.175575</td>\n",
       "      <td>0.647376</td>\n",
       "      <td>-0.221929</td>\n",
       "      <td>0.062723</td>\n",
       "      <td>0.061458</td>\n",
       "      <td>123.50</td>\n",
       "      <td>0</td>\n",
       "    </tr>\n",
       "    <tr>\n",
       "      <th>4</th>\n",
       "      <td>2.0</td>\n",
       "      <td>-1.158233</td>\n",
       "      <td>0.877737</td>\n",
       "      <td>1.548718</td>\n",
       "      <td>0.403034</td>\n",
       "      <td>-0.407193</td>\n",
       "      <td>0.095921</td>\n",
       "      <td>0.592941</td>\n",
       "      <td>-0.270533</td>\n",
       "      <td>0.817739</td>\n",
       "      <td>...</td>\n",
       "      <td>-0.009431</td>\n",
       "      <td>0.798278</td>\n",
       "      <td>-0.137458</td>\n",
       "      <td>0.141267</td>\n",
       "      <td>-0.206010</td>\n",
       "      <td>0.502292</td>\n",
       "      <td>0.219422</td>\n",
       "      <td>0.215153</td>\n",
       "      <td>69.99</td>\n",
       "      <td>0</td>\n",
       "    </tr>\n",
       "  </tbody>\n",
       "</table>\n",
       "<p>5 rows × 31 columns</p>\n",
       "</div>"
      ],
      "text/plain": [
       "   Time        V1        V2        V3        V4        V5        V6        V7  \\\n",
       "0   0.0 -1.359807 -0.072781  2.536347  1.378155 -0.338321  0.462388  0.239599   \n",
       "1   0.0  1.191857  0.266151  0.166480  0.448154  0.060018 -0.082361 -0.078803   \n",
       "2   1.0 -1.358354 -1.340163  1.773209  0.379780 -0.503198  1.800499  0.791461   \n",
       "3   1.0 -0.966272 -0.185226  1.792993 -0.863291 -0.010309  1.247203  0.237609   \n",
       "4   2.0 -1.158233  0.877737  1.548718  0.403034 -0.407193  0.095921  0.592941   \n",
       "\n",
       "         V8        V9  ...       V21       V22       V23       V24       V25  \\\n",
       "0  0.098698  0.363787  ... -0.018307  0.277838 -0.110474  0.066928  0.128539   \n",
       "1  0.085102 -0.255425  ... -0.225775 -0.638672  0.101288 -0.339846  0.167170   \n",
       "2  0.247676 -1.514654  ...  0.247998  0.771679  0.909412 -0.689281 -0.327642   \n",
       "3  0.377436 -1.387024  ... -0.108300  0.005274 -0.190321 -1.175575  0.647376   \n",
       "4 -0.270533  0.817739  ... -0.009431  0.798278 -0.137458  0.141267 -0.206010   \n",
       "\n",
       "        V26       V27       V28  Amount  Class  \n",
       "0 -0.189115  0.133558 -0.021053  149.62      0  \n",
       "1  0.125895 -0.008983  0.014724    2.69      0  \n",
       "2 -0.139097 -0.055353 -0.059752  378.66      0  \n",
       "3 -0.221929  0.062723  0.061458  123.50      0  \n",
       "4  0.502292  0.219422  0.215153   69.99      0  \n",
       "\n",
       "[5 rows x 31 columns]"
      ]
     },
     "execution_count": 4,
     "metadata": {},
     "output_type": "execute_result"
    }
   ],
   "source": [
    "#reading the csv file \n",
    "df = pd.read_csv('creditcard.csv')\n",
    "df.head()"
   ]
  },
  {
   "cell_type": "code",
   "execution_count": 5,
   "metadata": {},
   "outputs": [
    {
     "name": "stdout",
     "output_type": "stream",
     "text": [
      "(284807, 31)\n"
     ]
    }
   ],
   "source": [
    "#printing the shape of the dataset\n",
    "print(df.shape)"
   ]
  },
  {
   "cell_type": "code",
   "execution_count": 6,
   "metadata": {},
   "outputs": [
    {
     "name": "stdout",
     "output_type": "stream",
     "text": [
      "<class 'pandas.core.frame.DataFrame'>\n",
      "RangeIndex: 284807 entries, 0 to 284806\n",
      "Data columns (total 31 columns):\n",
      " #   Column  Non-Null Count   Dtype  \n",
      "---  ------  --------------   -----  \n",
      " 0   Time    284807 non-null  float64\n",
      " 1   V1      284807 non-null  float64\n",
      " 2   V2      284807 non-null  float64\n",
      " 3   V3      284807 non-null  float64\n",
      " 4   V4      284807 non-null  float64\n",
      " 5   V5      284807 non-null  float64\n",
      " 6   V6      284807 non-null  float64\n",
      " 7   V7      284807 non-null  float64\n",
      " 8   V8      284807 non-null  float64\n",
      " 9   V9      284807 non-null  float64\n",
      " 10  V10     284807 non-null  float64\n",
      " 11  V11     284807 non-null  float64\n",
      " 12  V12     284807 non-null  float64\n",
      " 13  V13     284807 non-null  float64\n",
      " 14  V14     284807 non-null  float64\n",
      " 15  V15     284807 non-null  float64\n",
      " 16  V16     284807 non-null  float64\n",
      " 17  V17     284807 non-null  float64\n",
      " 18  V18     284807 non-null  float64\n",
      " 19  V19     284807 non-null  float64\n",
      " 20  V20     284807 non-null  float64\n",
      " 21  V21     284807 non-null  float64\n",
      " 22  V22     284807 non-null  float64\n",
      " 23  V23     284807 non-null  float64\n",
      " 24  V24     284807 non-null  float64\n",
      " 25  V25     284807 non-null  float64\n",
      " 26  V26     284807 non-null  float64\n",
      " 27  V27     284807 non-null  float64\n",
      " 28  V28     284807 non-null  float64\n",
      " 29  Amount  284807 non-null  float64\n",
      " 30  Class   284807 non-null  int64  \n",
      "dtypes: float64(30), int64(1)\n",
      "memory usage: 67.4 MB\n"
     ]
    }
   ],
   "source": [
    "#overview of the dataset\n",
    "df.info()"
   ]
  },
  {
   "cell_type": "code",
   "execution_count": 7,
   "metadata": {},
   "outputs": [
    {
     "data": {
      "text/html": [
       "<div>\n",
       "<style scoped>\n",
       "    .dataframe tbody tr th:only-of-type {\n",
       "        vertical-align: middle;\n",
       "    }\n",
       "\n",
       "    .dataframe tbody tr th {\n",
       "        vertical-align: top;\n",
       "    }\n",
       "\n",
       "    .dataframe thead th {\n",
       "        text-align: right;\n",
       "    }\n",
       "</style>\n",
       "<table border=\"1\" class=\"dataframe\">\n",
       "  <thead>\n",
       "    <tr style=\"text-align: right;\">\n",
       "      <th></th>\n",
       "      <th>Time</th>\n",
       "      <th>V1</th>\n",
       "      <th>V2</th>\n",
       "      <th>V3</th>\n",
       "      <th>V4</th>\n",
       "      <th>V5</th>\n",
       "      <th>V6</th>\n",
       "      <th>V7</th>\n",
       "      <th>V8</th>\n",
       "      <th>V9</th>\n",
       "      <th>...</th>\n",
       "      <th>V21</th>\n",
       "      <th>V22</th>\n",
       "      <th>V23</th>\n",
       "      <th>V24</th>\n",
       "      <th>V25</th>\n",
       "      <th>V26</th>\n",
       "      <th>V27</th>\n",
       "      <th>V28</th>\n",
       "      <th>Amount</th>\n",
       "      <th>Class</th>\n",
       "    </tr>\n",
       "  </thead>\n",
       "  <tbody>\n",
       "    <tr>\n",
       "      <th>count</th>\n",
       "      <td>284807.000000</td>\n",
       "      <td>2.848070e+05</td>\n",
       "      <td>2.848070e+05</td>\n",
       "      <td>2.848070e+05</td>\n",
       "      <td>2.848070e+05</td>\n",
       "      <td>2.848070e+05</td>\n",
       "      <td>2.848070e+05</td>\n",
       "      <td>2.848070e+05</td>\n",
       "      <td>2.848070e+05</td>\n",
       "      <td>2.848070e+05</td>\n",
       "      <td>...</td>\n",
       "      <td>2.848070e+05</td>\n",
       "      <td>2.848070e+05</td>\n",
       "      <td>2.848070e+05</td>\n",
       "      <td>2.848070e+05</td>\n",
       "      <td>2.848070e+05</td>\n",
       "      <td>2.848070e+05</td>\n",
       "      <td>2.848070e+05</td>\n",
       "      <td>2.848070e+05</td>\n",
       "      <td>284807.000000</td>\n",
       "      <td>284807.000000</td>\n",
       "    </tr>\n",
       "    <tr>\n",
       "      <th>mean</th>\n",
       "      <td>94813.859575</td>\n",
       "      <td>1.168375e-15</td>\n",
       "      <td>3.416908e-16</td>\n",
       "      <td>-1.379537e-15</td>\n",
       "      <td>2.074095e-15</td>\n",
       "      <td>9.604066e-16</td>\n",
       "      <td>1.487313e-15</td>\n",
       "      <td>-5.556467e-16</td>\n",
       "      <td>1.213481e-16</td>\n",
       "      <td>-2.406331e-15</td>\n",
       "      <td>...</td>\n",
       "      <td>1.654067e-16</td>\n",
       "      <td>-3.568593e-16</td>\n",
       "      <td>2.578648e-16</td>\n",
       "      <td>4.473266e-15</td>\n",
       "      <td>5.340915e-16</td>\n",
       "      <td>1.683437e-15</td>\n",
       "      <td>-3.660091e-16</td>\n",
       "      <td>-1.227390e-16</td>\n",
       "      <td>88.349619</td>\n",
       "      <td>0.001727</td>\n",
       "    </tr>\n",
       "    <tr>\n",
       "      <th>std</th>\n",
       "      <td>47488.145955</td>\n",
       "      <td>1.958696e+00</td>\n",
       "      <td>1.651309e+00</td>\n",
       "      <td>1.516255e+00</td>\n",
       "      <td>1.415869e+00</td>\n",
       "      <td>1.380247e+00</td>\n",
       "      <td>1.332271e+00</td>\n",
       "      <td>1.237094e+00</td>\n",
       "      <td>1.194353e+00</td>\n",
       "      <td>1.098632e+00</td>\n",
       "      <td>...</td>\n",
       "      <td>7.345240e-01</td>\n",
       "      <td>7.257016e-01</td>\n",
       "      <td>6.244603e-01</td>\n",
       "      <td>6.056471e-01</td>\n",
       "      <td>5.212781e-01</td>\n",
       "      <td>4.822270e-01</td>\n",
       "      <td>4.036325e-01</td>\n",
       "      <td>3.300833e-01</td>\n",
       "      <td>250.120109</td>\n",
       "      <td>0.041527</td>\n",
       "    </tr>\n",
       "    <tr>\n",
       "      <th>min</th>\n",
       "      <td>0.000000</td>\n",
       "      <td>-5.640751e+01</td>\n",
       "      <td>-7.271573e+01</td>\n",
       "      <td>-4.832559e+01</td>\n",
       "      <td>-5.683171e+00</td>\n",
       "      <td>-1.137433e+02</td>\n",
       "      <td>-2.616051e+01</td>\n",
       "      <td>-4.355724e+01</td>\n",
       "      <td>-7.321672e+01</td>\n",
       "      <td>-1.343407e+01</td>\n",
       "      <td>...</td>\n",
       "      <td>-3.483038e+01</td>\n",
       "      <td>-1.093314e+01</td>\n",
       "      <td>-4.480774e+01</td>\n",
       "      <td>-2.836627e+00</td>\n",
       "      <td>-1.029540e+01</td>\n",
       "      <td>-2.604551e+00</td>\n",
       "      <td>-2.256568e+01</td>\n",
       "      <td>-1.543008e+01</td>\n",
       "      <td>0.000000</td>\n",
       "      <td>0.000000</td>\n",
       "    </tr>\n",
       "    <tr>\n",
       "      <th>25%</th>\n",
       "      <td>54201.500000</td>\n",
       "      <td>-9.203734e-01</td>\n",
       "      <td>-5.985499e-01</td>\n",
       "      <td>-8.903648e-01</td>\n",
       "      <td>-8.486401e-01</td>\n",
       "      <td>-6.915971e-01</td>\n",
       "      <td>-7.682956e-01</td>\n",
       "      <td>-5.540759e-01</td>\n",
       "      <td>-2.086297e-01</td>\n",
       "      <td>-6.430976e-01</td>\n",
       "      <td>...</td>\n",
       "      <td>-2.283949e-01</td>\n",
       "      <td>-5.423504e-01</td>\n",
       "      <td>-1.618463e-01</td>\n",
       "      <td>-3.545861e-01</td>\n",
       "      <td>-3.171451e-01</td>\n",
       "      <td>-3.269839e-01</td>\n",
       "      <td>-7.083953e-02</td>\n",
       "      <td>-5.295979e-02</td>\n",
       "      <td>5.600000</td>\n",
       "      <td>0.000000</td>\n",
       "    </tr>\n",
       "    <tr>\n",
       "      <th>50%</th>\n",
       "      <td>84692.000000</td>\n",
       "      <td>1.810880e-02</td>\n",
       "      <td>6.548556e-02</td>\n",
       "      <td>1.798463e-01</td>\n",
       "      <td>-1.984653e-02</td>\n",
       "      <td>-5.433583e-02</td>\n",
       "      <td>-2.741871e-01</td>\n",
       "      <td>4.010308e-02</td>\n",
       "      <td>2.235804e-02</td>\n",
       "      <td>-5.142873e-02</td>\n",
       "      <td>...</td>\n",
       "      <td>-2.945017e-02</td>\n",
       "      <td>6.781943e-03</td>\n",
       "      <td>-1.119293e-02</td>\n",
       "      <td>4.097606e-02</td>\n",
       "      <td>1.659350e-02</td>\n",
       "      <td>-5.213911e-02</td>\n",
       "      <td>1.342146e-03</td>\n",
       "      <td>1.124383e-02</td>\n",
       "      <td>22.000000</td>\n",
       "      <td>0.000000</td>\n",
       "    </tr>\n",
       "    <tr>\n",
       "      <th>75%</th>\n",
       "      <td>139320.500000</td>\n",
       "      <td>1.315642e+00</td>\n",
       "      <td>8.037239e-01</td>\n",
       "      <td>1.027196e+00</td>\n",
       "      <td>7.433413e-01</td>\n",
       "      <td>6.119264e-01</td>\n",
       "      <td>3.985649e-01</td>\n",
       "      <td>5.704361e-01</td>\n",
       "      <td>3.273459e-01</td>\n",
       "      <td>5.971390e-01</td>\n",
       "      <td>...</td>\n",
       "      <td>1.863772e-01</td>\n",
       "      <td>5.285536e-01</td>\n",
       "      <td>1.476421e-01</td>\n",
       "      <td>4.395266e-01</td>\n",
       "      <td>3.507156e-01</td>\n",
       "      <td>2.409522e-01</td>\n",
       "      <td>9.104512e-02</td>\n",
       "      <td>7.827995e-02</td>\n",
       "      <td>77.165000</td>\n",
       "      <td>0.000000</td>\n",
       "    </tr>\n",
       "    <tr>\n",
       "      <th>max</th>\n",
       "      <td>172792.000000</td>\n",
       "      <td>2.454930e+00</td>\n",
       "      <td>2.205773e+01</td>\n",
       "      <td>9.382558e+00</td>\n",
       "      <td>1.687534e+01</td>\n",
       "      <td>3.480167e+01</td>\n",
       "      <td>7.330163e+01</td>\n",
       "      <td>1.205895e+02</td>\n",
       "      <td>2.000721e+01</td>\n",
       "      <td>1.559499e+01</td>\n",
       "      <td>...</td>\n",
       "      <td>2.720284e+01</td>\n",
       "      <td>1.050309e+01</td>\n",
       "      <td>2.252841e+01</td>\n",
       "      <td>4.584549e+00</td>\n",
       "      <td>7.519589e+00</td>\n",
       "      <td>3.517346e+00</td>\n",
       "      <td>3.161220e+01</td>\n",
       "      <td>3.384781e+01</td>\n",
       "      <td>25691.160000</td>\n",
       "      <td>1.000000</td>\n",
       "    </tr>\n",
       "  </tbody>\n",
       "</table>\n",
       "<p>8 rows × 31 columns</p>\n",
       "</div>"
      ],
      "text/plain": [
       "                Time            V1            V2            V3            V4  \\\n",
       "count  284807.000000  2.848070e+05  2.848070e+05  2.848070e+05  2.848070e+05   \n",
       "mean    94813.859575  1.168375e-15  3.416908e-16 -1.379537e-15  2.074095e-15   \n",
       "std     47488.145955  1.958696e+00  1.651309e+00  1.516255e+00  1.415869e+00   \n",
       "min         0.000000 -5.640751e+01 -7.271573e+01 -4.832559e+01 -5.683171e+00   \n",
       "25%     54201.500000 -9.203734e-01 -5.985499e-01 -8.903648e-01 -8.486401e-01   \n",
       "50%     84692.000000  1.810880e-02  6.548556e-02  1.798463e-01 -1.984653e-02   \n",
       "75%    139320.500000  1.315642e+00  8.037239e-01  1.027196e+00  7.433413e-01   \n",
       "max    172792.000000  2.454930e+00  2.205773e+01  9.382558e+00  1.687534e+01   \n",
       "\n",
       "                 V5            V6            V7            V8            V9  \\\n",
       "count  2.848070e+05  2.848070e+05  2.848070e+05  2.848070e+05  2.848070e+05   \n",
       "mean   9.604066e-16  1.487313e-15 -5.556467e-16  1.213481e-16 -2.406331e-15   \n",
       "std    1.380247e+00  1.332271e+00  1.237094e+00  1.194353e+00  1.098632e+00   \n",
       "min   -1.137433e+02 -2.616051e+01 -4.355724e+01 -7.321672e+01 -1.343407e+01   \n",
       "25%   -6.915971e-01 -7.682956e-01 -5.540759e-01 -2.086297e-01 -6.430976e-01   \n",
       "50%   -5.433583e-02 -2.741871e-01  4.010308e-02  2.235804e-02 -5.142873e-02   \n",
       "75%    6.119264e-01  3.985649e-01  5.704361e-01  3.273459e-01  5.971390e-01   \n",
       "max    3.480167e+01  7.330163e+01  1.205895e+02  2.000721e+01  1.559499e+01   \n",
       "\n",
       "       ...           V21           V22           V23           V24  \\\n",
       "count  ...  2.848070e+05  2.848070e+05  2.848070e+05  2.848070e+05   \n",
       "mean   ...  1.654067e-16 -3.568593e-16  2.578648e-16  4.473266e-15   \n",
       "std    ...  7.345240e-01  7.257016e-01  6.244603e-01  6.056471e-01   \n",
       "min    ... -3.483038e+01 -1.093314e+01 -4.480774e+01 -2.836627e+00   \n",
       "25%    ... -2.283949e-01 -5.423504e-01 -1.618463e-01 -3.545861e-01   \n",
       "50%    ... -2.945017e-02  6.781943e-03 -1.119293e-02  4.097606e-02   \n",
       "75%    ...  1.863772e-01  5.285536e-01  1.476421e-01  4.395266e-01   \n",
       "max    ...  2.720284e+01  1.050309e+01  2.252841e+01  4.584549e+00   \n",
       "\n",
       "                V25           V26           V27           V28         Amount  \\\n",
       "count  2.848070e+05  2.848070e+05  2.848070e+05  2.848070e+05  284807.000000   \n",
       "mean   5.340915e-16  1.683437e-15 -3.660091e-16 -1.227390e-16      88.349619   \n",
       "std    5.212781e-01  4.822270e-01  4.036325e-01  3.300833e-01     250.120109   \n",
       "min   -1.029540e+01 -2.604551e+00 -2.256568e+01 -1.543008e+01       0.000000   \n",
       "25%   -3.171451e-01 -3.269839e-01 -7.083953e-02 -5.295979e-02       5.600000   \n",
       "50%    1.659350e-02 -5.213911e-02  1.342146e-03  1.124383e-02      22.000000   \n",
       "75%    3.507156e-01  2.409522e-01  9.104512e-02  7.827995e-02      77.165000   \n",
       "max    7.519589e+00  3.517346e+00  3.161220e+01  3.384781e+01   25691.160000   \n",
       "\n",
       "               Class  \n",
       "count  284807.000000  \n",
       "mean        0.001727  \n",
       "std         0.041527  \n",
       "min         0.000000  \n",
       "25%         0.000000  \n",
       "50%         0.000000  \n",
       "75%         0.000000  \n",
       "max         1.000000  \n",
       "\n",
       "[8 rows x 31 columns]"
      ]
     },
     "execution_count": 7,
     "metadata": {},
     "output_type": "execute_result"
    }
   ],
   "source": [
    "#statistical overview of the dataset\n",
    "df.describe()"
   ]
  },
  {
   "cell_type": "markdown",
   "metadata": {},
   "source": [
    "Fraud detection \n",
    "\n",
    "we can observe that the dataset is highly imbalanced, with a vast majority of transactions being non-fraudulent (class 0) and a relatively small number of transactions being fraudulent (class 1). This indicates that the dataset has a class imbalance problem, which may affect the performance of a model trained on this dataset. It may be necessary to use techniques such as oversampling, undersampling, or class weighting to handle the class imbalance problem when building a model for fraud detection."
   ]
  },
  {
   "cell_type": "code",
   "execution_count": 8,
   "metadata": {},
   "outputs": [
    {
     "data": {
      "text/plain": [
       "array([0, 1], dtype=int64)"
      ]
     },
     "execution_count": 8,
     "metadata": {},
     "output_type": "execute_result"
    }
   ],
   "source": [
    "#checking the different types of class under the class coloumn\n",
    "df['Class'].unique()"
   ]
  },
  {
   "cell_type": "code",
   "execution_count": 9,
   "metadata": {},
   "outputs": [
    {
     "data": {
      "text/plain": [
       "0    284315\n",
       "1       492\n",
       "Name: Class, dtype: int64"
      ]
     },
     "execution_count": 9,
     "metadata": {},
     "output_type": "execute_result"
    }
   ],
   "source": [
    "#the sum of different types of class\n",
    "df['Class'].value_counts()"
   ]
  },
  {
   "cell_type": "code",
   "execution_count": 10,
   "metadata": {},
   "outputs": [
    {
     "data": {
      "image/png": "[encoded data removed]",
      "text/plain": [
       "<Figure size 640x480 with 1 Axes>"
      ]
     },
     "metadata": {},
     "output_type": "display_data"
    }
   ],
   "source": [
    "#% of different types of class\n",
    "percentage = df['Class'].value_counts(normalize=True) * 100\n",
    "\n",
    "#plotting the percentage of different types of class \n",
    "classes = ['Non-Fraud', 'Fraud']\n",
    "plt.bar(classes, color = ['blue', 'red'], height = percentage)\n",
    "plt.title('Percentage of Non-Fraud and Fraud')\n",
    "plt.xlabel('Class')\n",
    "plt.ylabel('Percentage')\n",
    "plt.show()"
   ]
  },
  {
   "cell_type": "markdown",
   "metadata": {},
   "source": [
    "From the heatmap, it can be observed that there are no strong positive or negative correlations between any pairs of variables in the dataset. The strongest correlations are found:\n",
    "\n",
    "Time and V3, with a correlation coefficient of -0.42\n",
    "Amount and V2, with a correlation coefficient of -0.53\n",
    "Amount and V4, with a correlation coefficient of 0.4."
   ]
  },
  {
   "cell_type": "code",
   "execution_count": 11,
   "metadata": {},
   "outputs": [
    {
     "data": {
      "image/png": "[encoded data removed]",
      "text/plain": [
       "<Figure size 2000x1000 with 2 Axes>"
      ]
     },
     "metadata": {},
     "output_type": "display_data"
    }
   ],
   "source": [
    "#plotting the heatmap of correlation between different features\n",
    "plt.figure(figsize=(20,10))\n",
    "sns.heatmap(df.corr(), annot=False, cmap='coolwarm', linewidths=.5)\n",
    "plt.show()"
   ]
  },
  {
   "cell_type": "markdown",
   "metadata": {},
   "source": [
    "Modeling \n",
    "\n",
    "The \"Credit Card Fraud Detection\" dataset has credit card transactions labeled as fraudulent or not. The dataset is imbalanced, so it needs a model that can accurately detect fraudulent transactions without wrongly flagging non-fraudulent transactions.\n",
    "\n",
    "1. Dataset is divided into train, test, validation in 60 :20 :20 ratio \n",
    "2. since the units of measurement inside data is different for each coloums, we used to standardscalar() to standardise each measurements.StandardScaler standardizes data by giving it a mean of 0 and a standard deviation of 1, which results in a normal distribution. This technique works well when dealing with a wide range of amounts and time. To scale the data, the training set is used to initialize the fit, and the train, validation, and test sets are then scaled before running them into the models.\n",
    "3. Initially we installed both RandomUnderSampling and RandomOverSampling to balance the imbalanced dataset, how ever we sticked to RandomUnderSampling as RandomOverSampling was returning a very large dataset which took longer time to train the models \n",
    "4. Models used - logistic regression, Random Forest, SVM, XGboost\n"
   ]
  },
  {
   "cell_type": "code",
   "execution_count": 12,
   "metadata": {},
   "outputs": [],
   "source": [
    "#splitting data \n",
    "data = df.drop(['Class'], axis=1)\n",
    "target = df['Class']\n"
   ]
  },
  {
   "cell_type": "code",
   "execution_count": 13,
   "metadata": {},
   "outputs": [],
   "source": [
    "# Split data into training, validation and test sets, ensuring the class distribution is maintained\n",
    "X_trainval, X_test, y_trainval, y_test = train_test_split(data, target\n",
    "                                                          , test_size=0.2\n",
    "                                                          , stratify=df['Class']\n",
    "                                                          , random_state=42)\n",
    "X_train, X_val, y_train, y_val = train_test_split(X_trainval, y_trainval\n",
    "                                                  , test_size=0.25\n",
    "                                                  , stratify=y_trainval\n",
    "                                                  , random_state=42)"
   ]
  },
  {
   "cell_type": "code",
   "execution_count": 14,
   "metadata": {},
   "outputs": [],
   "source": [
    "#standardizing the data as time and amount are in different units, fit is done to do the calculation and transform is done to apply the transformation\n",
    "scaler = StandardScaler()\n",
    "scaler.fit(X_train)\n",
    "X_train = scaler.transform(X_train)\n",
    "X_val = scaler.transform(X_val)\n",
    "X_test = scaler.transform(X_test)\n"
   ]
  },
  {
   "cell_type": "code",
   "execution_count": 15,
   "metadata": {},
   "outputs": [],
   "source": [
    "#RandomUnderSampler\n",
    "rus = RandomUnderSampler(random_state=42)\n",
    "X_train_rus, y_train_rus = rus.fit_resample(X_train, y_train)\n",
    "x_val_rus, y_val_rus = rus.fit_resample(X_val, y_val)"
   ]
  },
  {
   "cell_type": "code",
   "execution_count": 16,
   "metadata": {},
   "outputs": [
    {
     "data": {
      "text/plain": [
       "(590, 30)"
      ]
     },
     "execution_count": 16,
     "metadata": {},
     "output_type": "execute_result"
    }
   ],
   "source": [
    "X_train_rus.shape"
   ]
  },
  {
   "cell_type": "code",
   "execution_count": 17,
   "metadata": {},
   "outputs": [],
   "source": [
    "#randomoversampler\n",
    "ros = RandomOverSampler(random_state=42)\n",
    "X_train_ros, y_train_ros = ros.fit_resample(X_train, y_train)\n",
    "x_val_ros, y_val_ros = ros.fit_resample(X_val, y_val)\n"
   ]
  },
  {
   "cell_type": "code",
   "execution_count": 18,
   "metadata": {},
   "outputs": [
    {
     "data": {
      "text/plain": [
       "(341176, 30)"
      ]
     },
     "execution_count": 18,
     "metadata": {},
     "output_type": "execute_result"
    }
   ],
   "source": [
    "X_train_ros.shape"
   ]
  },
  {
   "cell_type": "markdown",
   "metadata": {},
   "source": [
    "Logistic Regression \n",
    "\n",
    "The 'penalty' parameter determines the type of regularization to be applied in the logistic regression model. \n",
    "\n",
    "The 'tol' parameter specifies the tolerance for stopping criteria. It represents the tolerance for the change in the loss function or the coefficients between iterations. If the change in the loss or coefficients is below this tolerance, the optimization algorithm stops. \n",
    "\n",
    "The 'C' parameter determines the inverse of the regularization strength. A smaller 'C' value corresponds to a stronger regularization, while a larger 'C' value means weaker regularization. It basically determines the complexity of the model.  a smaller 'C' value results in stronger regularization and a simpler model. "
   ]
  },
  {
   "cell_type": "code",
   "execution_count": 19,
   "metadata": {},
   "outputs": [
    {
     "name": "stdout",
     "output_type": "stream",
     "text": [
      "Fitting 5 folds for each of 25 candidates, totalling 125 fits\n"
     ]
    }
   ],
   "source": [
    "#Logistic Regression for undersampled data\n",
    "penalty = ['l2']\n",
    "tol = np.logspace(0,-4, 5)\n",
    "C = np.logspace(0,4, 5)\n",
    "param_grid = dict(penalty=penalty, tol=tol, C=C)\n",
    "\n",
    "lr = LogisticRegression(solver = 'lbfgs' ,random_state=42, max_iter=10000)\n",
    "lr_grid_under = GridSearchCV(lr, param_grid, cv=5, scoring='roc_auc', verbose=1, n_jobs=-1)\n",
    "lr_grid_under.fit(X_train_rus, y_train_rus)\n",
    "lr_grid_under_results = pd.DataFrame(lr_grid_under.cv_results_)\n",
    "lr_grid_under_results[['param_C', 'param_penalty', 'param_tol', 'mean_test_score']]\n",
    "lr_under_param = lr_grid_under.best_params_"
   ]
  },
  {
   "cell_type": "code",
   "execution_count": 20,
   "metadata": {},
   "outputs": [
    {
     "data": {
      "text/plain": [
       "{'C': 100.0, 'penalty': 'l2', 'tol': 0.001}"
      ]
     },
     "execution_count": 20,
     "metadata": {},
     "output_type": "execute_result"
    }
   ],
   "source": [
    "lr_under_param"
   ]
  },
  {
   "cell_type": "code",
   "execution_count": 21,
   "metadata": {},
   "outputs": [
    {
     "name": "stdout",
     "output_type": "stream",
     "text": [
      "Fitting 5 folds for each of 5 candidates, totalling 25 fits\n"
     ]
    }
   ],
   "source": [
    "#logistic regression for oversampled data\n",
    "lr_grid_over = RandomizedSearchCV(lr, param_grid, cv=5, scoring='roc_auc', verbose=1, n_jobs=-1, n_iter= 5)\n",
    "lr_grid_over.fit(X_train_ros, y_train_ros)\n",
    "lr_grid_over_results = pd.DataFrame(lr_grid_over.cv_results_)[['param_C', 'param_penalty', 'param_tol', 'mean_test_score']]\n",
    "lr_over_param = lr_grid_over.best_params_"
   ]
  },
  {
   "cell_type": "code",
   "execution_count": 22,
   "metadata": {},
   "outputs": [],
   "source": [
    "#a list to append the scores of different models for there best parameters\n",
    "scores = []\n",
    "scores.append({'name': 'lr_under', 'mean_score': lr_grid_under_results['mean_test_score'].mean(), 'params': lr_under_param})\n",
    "scores.append({'name': 'lr_over', 'mean_score': lr_grid_over_results['mean_test_score'].mean(), 'params': lr_over_param})\n"
   ]
  },
  {
   "cell_type": "code",
   "execution_count": 23,
   "metadata": {},
   "outputs": [
    {
     "data": {
      "text/html": [
       "<div>\n",
       "<style scoped>\n",
       "    .dataframe tbody tr th:only-of-type {\n",
       "        vertical-align: middle;\n",
       "    }\n",
       "\n",
       "    .dataframe tbody tr th {\n",
       "        vertical-align: top;\n",
       "    }\n",
       "\n",
       "    .dataframe thead th {\n",
       "        text-align: right;\n",
       "    }\n",
       "</style>\n",
       "<table border=\"1\" class=\"dataframe\">\n",
       "  <thead>\n",
       "    <tr style=\"text-align: right;\">\n",
       "      <th></th>\n",
       "      <th>name</th>\n",
       "      <th>mean_score</th>\n",
       "      <th>params</th>\n",
       "    </tr>\n",
       "  </thead>\n",
       "  <tbody>\n",
       "    <tr>\n",
       "      <th>0</th>\n",
       "      <td>lr_under</td>\n",
       "      <td>0.981858</td>\n",
       "      <td>{'C': 100.0, 'penalty': 'l2', 'tol': 0.001}</td>\n",
       "    </tr>\n",
       "    <tr>\n",
       "      <th>1</th>\n",
       "      <td>lr_over</td>\n",
       "      <td>0.992529</td>\n",
       "      <td>{'tol': 0.01, 'penalty': 'l2', 'C': 1000.0}</td>\n",
       "    </tr>\n",
       "  </tbody>\n",
       "</table>\n",
       "</div>"
      ],
      "text/plain": [
       "       name  mean_score                                       params\n",
       "0  lr_under    0.981858  {'C': 100.0, 'penalty': 'l2', 'tol': 0.001}\n",
       "1   lr_over    0.992529  {'tol': 0.01, 'penalty': 'l2', 'C': 1000.0}"
      ]
     },
     "execution_count": 23,
     "metadata": {},
     "output_type": "execute_result"
    }
   ],
   "source": [
    "scores = pd.DataFrame(scores)\n",
    "scores"
   ]
  },
  {
   "cell_type": "markdown",
   "metadata": {},
   "source": [
    "Random Forest\n",
    "\n",
    "n_estimators:This parameter determines the number of decision trees to be created in an ensemble learning method, such as Random Forest.\n",
    "\n",
    "criteria : The 'criteria' parameter specifies the criterion used for splitting data in decision trees. Gini quantifies the impurity or the probability of misclassification at a particular node in a decision tree.Entropy is a measure of impurity or disorder in a set of samples within a node of a decision tree or any other classification algorithm\n",
    "\n",
    "max_depth : max_depth' determines the maximum depth or maximum number of levels that a decision tree can grow. \n",
    "\n",
    "min_samples_split: This parameter specifies the minimum number of samples required to split an internal node in a decision tree.\n",
    "\n",
    "min_samples_leaf: 'min_samples_leaf' determines the minimum number of samples required to be present in a leaf node\n",
    "\n",
    "max_features:'max_features' determines the number of features to consider when looking for the best split at each node in a decision tree. It controls the randomness in feature selection, which can improve generalization and reduce overfitting. In your case, it specifies two options: 'sqrt' (square root of the total number of features) and 'log2' (logarithm base 2 of the total number of features)."
   ]
  },
  {
   "cell_type": "code",
   "execution_count": 24,
   "metadata": {},
   "outputs": [
    {
     "name": "stdout",
     "output_type": "stream",
     "text": [
      "Fitting 5 folds for each of 5 candidates, totalling 25 fits\n"
     ]
    }
   ],
   "source": [
    "#Random Forest for undersampled data\n",
    "n_estimators = [int(x) for x in np.linspace(start = 100, stop = 1000, num = 3)]\n",
    "criteria = ['gini', 'entropy']\n",
    "max_depth = [int(x) for x in np.linspace(3,10, num = 3)]\n",
    "min_samples_split = [int(x) for x in np.linspace(2,10, num = 3)]\n",
    "min_samples_leaf = [int(x) for x in np.linspace(1,10, num = 3)]\n",
    "max_features = ['sqrt', 'log2']\n",
    "param_grid = dict(n_estimators=n_estimators, criterion=criteria, max_depth=max_depth, min_samples_split=min_samples_split, min_samples_leaf=min_samples_leaf,  max_features=max_features)\n",
    "\n",
    "\n",
    "rf = RandomForestClassifier(random_state=42)\n",
    "rf_grid_under = RandomizedSearchCV(rf, param_grid, cv=5, scoring='roc_auc', verbose=1, n_jobs=-1, n_iter= 5)\n",
    "rf_grid_under.fit(X_train_rus, y_train_rus)\n",
    "rf_grid_under_results = pd.DataFrame(rf_grid_under.cv_results_)[['param_n_estimators', 'param_criterion', 'param_max_depth', 'param_min_samples_split', 'param_min_samples_leaf', 'param_max_features', 'mean_test_score']]\n",
    "rf_under_param = rf_grid_under.best_params_"
   ]
  },
  {
   "cell_type": "code",
   "execution_count": 25,
   "metadata": {},
   "outputs": [
    {
     "data": {
      "text/plain": [
       "\"\\nrf_grid_over = RandomizedSearchCV(rf, param_grid, cv=5, scoring='roc_auc', verbose=1, n_jobs=-1, n_iter= 5)\\nrf_grid_over.fit(X_train_ros, y_train_ros)\\nrf_grid_over_results = pd.DataFrame(rf_grid_over.cv_results_)[['param_n_estimators', 'param_criterion', 'param_max_depth', 'param_min_samples_split', 'param_min_samples_leaf', 'param_max_features', 'mean_test_score']]\\nrf_over_param = rf_grid_over.best_params_\\n\""
      ]
     },
     "execution_count": 25,
     "metadata": {},
     "output_type": "execute_result"
    }
   ],
   "source": [
    "\"\"\"\n",
    "rf_grid_over = RandomizedSearchCV(rf, param_grid, cv=5, scoring='roc_auc', verbose=1, n_jobs=-1, n_iter= 5)\n",
    "rf_grid_over.fit(X_train_ros, y_train_ros)\n",
    "rf_grid_over_results = pd.DataFrame(rf_grid_over.cv_results_)[['param_n_estimators', 'param_criterion', 'param_max_depth', 'param_min_samples_split', 'param_min_samples_leaf', 'param_max_features', 'mean_test_score']]\n",
    "rf_over_param = rf_grid_over.best_params_\n",
    "\"\"\""
   ]
  },
  {
   "cell_type": "code",
   "execution_count": 26,
   "metadata": {},
   "outputs": [
    {
     "name": "stderr",
     "output_type": "stream",
     "text": [
      "C:\\Users\\Lenovo\\AppData\\Local\\Temp\\ipykernel_19136\\2087426815.py:1: FutureWarning: The frame.append method is deprecated and will be removed from pandas in a future version. Use pandas.concat instead.\n",
      "  scores = scores.append({'name': 'rf_under', 'mean_score': rf_grid_under_results['mean_test_score'].mean(), 'params': rf_under_param} , ignore_index=True)\n"
     ]
    }
   ],
   "source": [
    "scores = scores.append({'name': 'rf_under', 'mean_score': rf_grid_under_results['mean_test_score'].mean(), 'params': rf_under_param} , ignore_index=True)\n",
    "#scores.append({'name': 'rf_over', 'mean_score': rf_grid_over_results['mean_test_score'].mean(), 'params': rf_over_param})"
   ]
  },
  {
   "cell_type": "code",
   "execution_count": 27,
   "metadata": {},
   "outputs": [
    {
     "data": {
      "text/html": [
       "<div>\n",
       "<style scoped>\n",
       "    .dataframe tbody tr th:only-of-type {\n",
       "        vertical-align: middle;\n",
       "    }\n",
       "\n",
       "    .dataframe tbody tr th {\n",
       "        vertical-align: top;\n",
       "    }\n",
       "\n",
       "    .dataframe thead th {\n",
       "        text-align: right;\n",
       "    }\n",
       "</style>\n",
       "<table border=\"1\" class=\"dataframe\">\n",
       "  <thead>\n",
       "    <tr style=\"text-align: right;\">\n",
       "      <th></th>\n",
       "      <th>name</th>\n",
       "      <th>mean_score</th>\n",
       "      <th>params</th>\n",
       "    </tr>\n",
       "  </thead>\n",
       "  <tbody>\n",
       "    <tr>\n",
       "      <th>0</th>\n",
       "      <td>lr_under</td>\n",
       "      <td>0.981858</td>\n",
       "      <td>{'C': 100.0, 'penalty': 'l2', 'tol': 0.001}</td>\n",
       "    </tr>\n",
       "    <tr>\n",
       "      <th>1</th>\n",
       "      <td>lr_over</td>\n",
       "      <td>0.992529</td>\n",
       "      <td>{'tol': 0.01, 'penalty': 'l2', 'C': 1000.0}</td>\n",
       "    </tr>\n",
       "    <tr>\n",
       "      <th>2</th>\n",
       "      <td>rf_under</td>\n",
       "      <td>0.982545</td>\n",
       "      <td>{'n_estimators': 1000, 'min_samples_split': 10...</td>\n",
       "    </tr>\n",
       "  </tbody>\n",
       "</table>\n",
       "</div>"
      ],
      "text/plain": [
       "       name  mean_score                                             params\n",
       "0  lr_under    0.981858        {'C': 100.0, 'penalty': 'l2', 'tol': 0.001}\n",
       "1   lr_over    0.992529        {'tol': 0.01, 'penalty': 'l2', 'C': 1000.0}\n",
       "2  rf_under    0.982545  {'n_estimators': 1000, 'min_samples_split': 10..."
      ]
     },
     "execution_count": 27,
     "metadata": {},
     "output_type": "execute_result"
    }
   ],
   "source": [
    "scores"
   ]
  },
  {
   "cell_type": "markdown",
   "metadata": {},
   "source": [
    "SVM\n",
    "\n",
    "The 'kernel' parameter specifies the type of kernel function to be used in the SVM model. It defines the type of decision boundary created by the model. The options provided in your code are 'linear', 'poly' (polynomial), 'rbf' (Radial Basis Function), and 'sigmoid'.\n",
    "\n",
    "The 'C' parameter determines the inverse of the regularization strength. A smaller 'C' value corresponds to a stronger regularization, while a larger 'C' value means weaker regularization. It basically determines the complexity of the model.  a smaller 'C' value results in stronger regularization and a simpler model. \n",
    "\n",
    "The 'gamma' parameter determines the kernel coefficient for 'rbf', 'poly', and 'sigmoid' kernels. It defines the influence of a single training example. 'scale' and 'auto' are two options for setting the gamma value. 'scale' sets gamma as 1 / (n_features * X.var()) and 'auto' sets gamma as 1 / n_features. Gamma values influence the flexibility and smoothness of the decision boundary.\n"
   ]
  },
  {
   "cell_type": "code",
   "execution_count": 28,
   "metadata": {},
   "outputs": [
    {
     "name": "stdout",
     "output_type": "stream",
     "text": [
      "Fitting 5 folds for each of 24 candidates, totalling 120 fits\n"
     ]
    }
   ],
   "source": [
    "#svm for undersampled data\n",
    "kernel = ['linear', 'poly', 'rbf', 'sigmoid']\n",
    "C = np.logspace(0,4, 3)\n",
    "gamma = ['scale', 'auto']\n",
    "param_grid = dict(kernel=kernel, C=C, gamma=gamma)\n",
    "\n",
    "svc = svm.SVC(random_state=42)\n",
    "svc_grid_under = GridSearchCV(svc, param_grid, cv=5, scoring='roc_auc', verbose=1, n_jobs=-1)\n",
    "svc_grid_under.fit(X_train_rus, y_train_rus)\n",
    "svc_grid_under_results = pd.DataFrame(svc_grid_under.cv_results_)[['param_kernel', 'param_C', 'param_gamma', 'mean_test_score']]\n",
    "svc_under_param = svc_grid_under.best_params_\n"
   ]
  },
  {
   "cell_type": "code",
   "execution_count": 29,
   "metadata": {},
   "outputs": [
    {
     "data": {
      "text/plain": [
       "\"\\nsvm_grid_over = GridSearchCV(svc, param_grid, cv=5, scoring='roc_auc', verbose=1, n_jobs=-1, n_iter= 3)\\nsvm_grid_over.fit(X_train_ros, y_train_ros)\\nsvm_grid_over_results = pd.DataFrame(svm_grid_over.cv_results_)[['param_kernel', 'param_C', 'param_gamma', 'mean_test_score']]\\nsvm_over_param = svm_grid_over.best_params_\\n\""
      ]
     },
     "execution_count": 29,
     "metadata": {},
     "output_type": "execute_result"
    }
   ],
   "source": [
    "\"\"\"\n",
    "svm_grid_over = GridSearchCV(svc, param_grid, cv=5, scoring='roc_auc', verbose=1, n_jobs=-1, n_iter= 3)\n",
    "svm_grid_over.fit(X_train_ros, y_train_ros)\n",
    "svm_grid_over_results = pd.DataFrame(svm_grid_over.cv_results_)[['param_kernel', 'param_C', 'param_gamma', 'mean_test_score']]\n",
    "svm_over_param = svm_grid_over.best_params_\n",
    "\"\"\""
   ]
  },
  {
   "cell_type": "code",
   "execution_count": 30,
   "metadata": {},
   "outputs": [
    {
     "name": "stderr",
     "output_type": "stream",
     "text": [
      "C:\\Users\\Lenovo\\AppData\\Local\\Temp\\ipykernel_19136\\320737339.py:1: FutureWarning: The frame.append method is deprecated and will be removed from pandas in a future version. Use pandas.concat instead.\n",
      "  scores = scores.append({'name': 'svm_under', 'mean_score': svc_grid_under_results['mean_test_score'].mean(), 'params': svc_under_param},  ignore_index=True)\n"
     ]
    }
   ],
   "source": [
    "scores = scores.append({'name': 'svm_under', 'mean_score': svc_grid_under_results['mean_test_score'].mean(), 'params': svc_under_param},  ignore_index=True)"
   ]
  },
  {
   "cell_type": "markdown",
   "metadata": {},
   "source": [
    "Xgboost\n",
    "\n",
    "The 'n_estimators' parameter determines the number of boosting rounds or decision trees to be created in the XGBoost model\n",
    "\n",
    "The 'max_depth' parameter determines the maximum depth or maximum number of levels that a tree can grow in the XGBoost model. It limits the complexity and size of each decision tree.\n",
    "\n",
    "The 'learning_rate' parameter controls the step size or shrinkage applied to each boosting iteration. It scales the contribution of each tree in the ensemble. A smaller learning rate value requires more boosting rounds to achieve the same level of model performance. In your code, it generates a list of three values evenly spaced between 0.1 and 1, representing different learning rate values to be tested.\n",
    "\n",
    "The 'gamma' parameter is the minimum loss reduction required to make a further partition on a leaf node of the tree. It adds regularization by reducing the number of splits. \n",
    "\n",
    "The 'subsample' parameter determines the fraction of samples to be used for training each tree.\n",
    "\n",
    "The 'colsample_bytree' parameter determines the fraction of features to be used for training each tree"
   ]
  },
  {
   "cell_type": "code",
   "execution_count": 31,
   "metadata": {},
   "outputs": [
    {
     "name": "stdout",
     "output_type": "stream",
     "text": [
      "Fitting 5 folds for each of 3 candidates, totalling 15 fits\n"
     ]
    }
   ],
   "source": [
    "#xgboost for undersampled data\n",
    "n_estimators = [int(x) for x in np.linspace(start = 100, stop = 1000, num = 3)]\n",
    "max_depth = [int(x) for x in np.linspace(3,10, num = 3)]\n",
    "learning_rate = [float(x) for x in np.linspace(0.1,1, num = 3)]\n",
    "gamma = [float(x) for x in np.linspace(0,1, num = 3)]\n",
    "subsample = [float(x) for x in np.linspace(0.1,1, num = 3)]\n",
    "colsample_bytree = [float(x) for x in np.linspace(0.1,1, num = 3)]\n",
    "param_grid = dict(n_estimators=n_estimators, max_depth=max_depth, learning_rate=learning_rate, gamma=gamma, subsample=subsample, colsample_bytree=colsample_bytree)\n",
    "\n",
    "xgb = XGBClassifier(random_state=42)\n",
    "xgb_grid_under = RandomizedSearchCV(xgb, param_grid, cv=5, scoring='roc_auc', verbose=1, n_jobs=-1, n_iter= 3)\n",
    "xgb_grid_under.fit(X_train_rus, y_train_rus)\n",
    "xgb_grid_under_results = pd.DataFrame(xgb_grid_under.cv_results_)[['param_n_estimators', 'param_max_depth', 'param_learning_rate', 'param_gamma', 'param_subsample', 'param_colsample_bytree', 'mean_test_score']]\n",
    "xgb_under_param = xgb_grid_under.best_params_\n"
   ]
  },
  {
   "cell_type": "code",
   "execution_count": 32,
   "metadata": {},
   "outputs": [
    {
     "data": {
      "text/html": [
       "<div>\n",
       "<style scoped>\n",
       "    .dataframe tbody tr th:only-of-type {\n",
       "        vertical-align: middle;\n",
       "    }\n",
       "\n",
       "    .dataframe tbody tr th {\n",
       "        vertical-align: top;\n",
       "    }\n",
       "\n",
       "    .dataframe thead th {\n",
       "        text-align: right;\n",
       "    }\n",
       "</style>\n",
       "<table border=\"1\" class=\"dataframe\">\n",
       "  <thead>\n",
       "    <tr style=\"text-align: right;\">\n",
       "      <th></th>\n",
       "      <th>param_n_estimators</th>\n",
       "      <th>param_max_depth</th>\n",
       "      <th>param_learning_rate</th>\n",
       "      <th>param_gamma</th>\n",
       "      <th>param_subsample</th>\n",
       "      <th>param_colsample_bytree</th>\n",
       "      <th>mean_test_score</th>\n",
       "    </tr>\n",
       "  </thead>\n",
       "  <tbody>\n",
       "    <tr>\n",
       "      <th>0</th>\n",
       "      <td>100</td>\n",
       "      <td>6</td>\n",
       "      <td>0.55</td>\n",
       "      <td>0.0</td>\n",
       "      <td>0.1</td>\n",
       "      <td>1.0</td>\n",
       "      <td>0.978943</td>\n",
       "    </tr>\n",
       "    <tr>\n",
       "      <th>1</th>\n",
       "      <td>100</td>\n",
       "      <td>3</td>\n",
       "      <td>1.0</td>\n",
       "      <td>1.0</td>\n",
       "      <td>1.0</td>\n",
       "      <td>0.55</td>\n",
       "      <td>0.983453</td>\n",
       "    </tr>\n",
       "    <tr>\n",
       "      <th>2</th>\n",
       "      <td>550</td>\n",
       "      <td>10</td>\n",
       "      <td>0.55</td>\n",
       "      <td>0.0</td>\n",
       "      <td>0.1</td>\n",
       "      <td>0.1</td>\n",
       "      <td>0.974835</td>\n",
       "    </tr>\n",
       "  </tbody>\n",
       "</table>\n",
       "</div>"
      ],
      "text/plain": [
       "  param_n_estimators param_max_depth param_learning_rate param_gamma  \\\n",
       "0                100               6                0.55         0.0   \n",
       "1                100               3                 1.0         1.0   \n",
       "2                550              10                0.55         0.0   \n",
       "\n",
       "  param_subsample param_colsample_bytree  mean_test_score  \n",
       "0             0.1                    1.0         0.978943  \n",
       "1             1.0                   0.55         0.983453  \n",
       "2             0.1                    0.1         0.974835  "
      ]
     },
     "execution_count": 32,
     "metadata": {},
     "output_type": "execute_result"
    }
   ],
   "source": [
    "xgb_grid_under_results"
   ]
  },
  {
   "cell_type": "code",
   "execution_count": 33,
   "metadata": {},
   "outputs": [
    {
     "data": {
      "text/plain": [
       "\"\\nxgb_grid_over = RandomizedSearchCV(xgb, param_grid, cv=5, scoring='roc_auc', verbose=1, n_jobs=-1, n_iter= 5)\\nxgb_grid_over.fit(X_train_ros, y_train_ros)\\nxgb_grid_over_results = pd.DataFrame(xgb_grid_over.cv_results_)[['param_n_estimators', 'param_max_depth', 'param_learning_rate', 'param_gamma', 'param_subsample', 'param_colsample_bytree', 'mean_test_score']]\\nxgb_over_param = xgb_grid_over.best_params_\\n\""
      ]
     },
     "execution_count": 33,
     "metadata": {},
     "output_type": "execute_result"
    }
   ],
   "source": [
    "\"\"\"\n",
    "xgb_grid_over = RandomizedSearchCV(xgb, param_grid, cv=5, scoring='roc_auc', verbose=1, n_jobs=-1, n_iter= 5)\n",
    "xgb_grid_over.fit(X_train_ros, y_train_ros)\n",
    "xgb_grid_over_results = pd.DataFrame(xgb_grid_over.cv_results_)[['param_n_estimators', 'param_max_depth', 'param_learning_rate', 'param_gamma', 'param_subsample', 'param_colsample_bytree', 'mean_test_score']]\n",
    "xgb_over_param = xgb_grid_over.best_params_\n",
    "\"\"\""
   ]
  },
  {
   "cell_type": "code",
   "execution_count": 34,
   "metadata": {},
   "outputs": [
    {
     "name": "stderr",
     "output_type": "stream",
     "text": [
      "C:\\Users\\Lenovo\\AppData\\Local\\Temp\\ipykernel_19136\\3037531886.py:1: FutureWarning: The frame.append method is deprecated and will be removed from pandas in a future version. Use pandas.concat instead.\n",
      "  scores = scores.append({'name': 'xgb_under', 'mean_score': xgb_grid_under_results['mean_test_score'].mean(), 'params': xgb_under_param},  ignore_index=True)\n"
     ]
    }
   ],
   "source": [
    "scores = scores.append({'name': 'xgb_under', 'mean_score': xgb_grid_under_results['mean_test_score'].mean(), 'params': xgb_under_param},  ignore_index=True)\n",
    "#scores.append({'name': 'xgb_over', 'mean_score': xgb_grid_over_results['mean_test_score'].mean(), 'params': xgb_over_param})\n"
   ]
  },
  {
   "cell_type": "code",
   "execution_count": 35,
   "metadata": {},
   "outputs": [
    {
     "data": {
      "text/html": [
       "<div>\n",
       "<style scoped>\n",
       "    .dataframe tbody tr th:only-of-type {\n",
       "        vertical-align: middle;\n",
       "    }\n",
       "\n",
       "    .dataframe tbody tr th {\n",
       "        vertical-align: top;\n",
       "    }\n",
       "\n",
       "    .dataframe thead th {\n",
       "        text-align: right;\n",
       "    }\n",
       "</style>\n",
       "<table border=\"1\" class=\"dataframe\">\n",
       "  <thead>\n",
       "    <tr style=\"text-align: right;\">\n",
       "      <th></th>\n",
       "      <th>name</th>\n",
       "      <th>mean_score</th>\n",
       "      <th>params</th>\n",
       "    </tr>\n",
       "  </thead>\n",
       "  <tbody>\n",
       "    <tr>\n",
       "      <th>0</th>\n",
       "      <td>lr_under</td>\n",
       "      <td>0.981858</td>\n",
       "      <td>{'C': 100.0, 'penalty': 'l2', 'tol': 0.001}</td>\n",
       "    </tr>\n",
       "    <tr>\n",
       "      <th>1</th>\n",
       "      <td>lr_over</td>\n",
       "      <td>0.992529</td>\n",
       "      <td>{'tol': 0.01, 'penalty': 'l2', 'C': 1000.0}</td>\n",
       "    </tr>\n",
       "    <tr>\n",
       "      <th>2</th>\n",
       "      <td>rf_under</td>\n",
       "      <td>0.982545</td>\n",
       "      <td>{'n_estimators': 1000, 'min_samples_split': 10...</td>\n",
       "    </tr>\n",
       "    <tr>\n",
       "      <th>3</th>\n",
       "      <td>svm_under</td>\n",
       "      <td>0.967763</td>\n",
       "      <td>{'C': 1.0, 'gamma': 'scale', 'kernel': 'rbf'}</td>\n",
       "    </tr>\n",
       "    <tr>\n",
       "      <th>4</th>\n",
       "      <td>xgb_under</td>\n",
       "      <td>0.979077</td>\n",
       "      <td>{'subsample': 1.0, 'n_estimators': 100, 'max_d...</td>\n",
       "    </tr>\n",
       "  </tbody>\n",
       "</table>\n",
       "</div>"
      ],
      "text/plain": [
       "        name  mean_score                                             params\n",
       "0   lr_under    0.981858        {'C': 100.0, 'penalty': 'l2', 'tol': 0.001}\n",
       "1    lr_over    0.992529        {'tol': 0.01, 'penalty': 'l2', 'C': 1000.0}\n",
       "2   rf_under    0.982545  {'n_estimators': 1000, 'min_samples_split': 10...\n",
       "3  svm_under    0.967763      {'C': 1.0, 'gamma': 'scale', 'kernel': 'rbf'}\n",
       "4  xgb_under    0.979077  {'subsample': 1.0, 'n_estimators': 100, 'max_d..."
      ]
     },
     "execution_count": 35,
     "metadata": {},
     "output_type": "execute_result"
    }
   ],
   "source": [
    "scores"
   ]
  },
  {
   "cell_type": "markdown",
   "metadata": {},
   "source": [
    "Model Evaluation"
   ]
  },
  {
   "cell_type": "markdown",
   "metadata": {},
   "source": [
    "Recall (True Positive Rate): This metric measures the percentage of all fraudulent transactions that the model correctly identifies as fraudulent.\n",
    "\n",
    "Precision: This metric indicates the percentage of items that the model labels as fraud that are actually fraudulent.\n",
    "\n",
    "False Positive Rate: This metric measures the percentage of non-fraudulent transactions that the model incorrectly labels as fraudulent.\n",
    "\n",
    "Accuracy: This metric reflects how often the model is correct in its predictions overall. However, it can be misleading in the case of imbalanced data or fraud detection.\n",
    "\n",
    "F1 score: This metric is a combination of precision and recall, taking both false positives and false negatives into account. It's a weighted average of precision and recall and is usually more useful than accuracy, especially when dealing with uneven classes.\n",
    "\n",
    "F1 = 2 * (precision * recall) / (precision + recall)\n",
    "\n",
    "where\n",
    "\n",
    "precision = TP / (TP + FP)\n",
    "recall = TP / (TP + FN)\n",
    "TP: True Positive (model predicts positive and it is positive)\n",
    "FP: False Positive (model predicts positive but it is negative)\n",
    "FN: False Negative (model predicts negative but it is positive)\n",
    "\n",
    "Roc_auc_score :  It measures the performance of a model in terms of its ability to discriminate between positive and negative classes.\n",
    "\n",
    "Threshold :  a threshold is a value that is used to separate the predicted probabilities or scores into the positive class and the negative class. It acts as a decision boundary for classifying the samples."
   ]
  },
  {
   "cell_type": "code",
   "execution_count": 36,
   "metadata": {},
   "outputs": [],
   "source": [
    "models = {'lr_under': LogisticRegression(**lr_under_param, solver = 'lbfgs' ,random_state=42, max_iter=10000),\n",
    "          'lr_over': LogisticRegression(**lr_over_param, solver = 'lbfgs' ,random_state=42, max_iter=10000),\n",
    "          'rf_under': RandomForestClassifier(**rf_under_param, random_state=42),\n",
    "          'svm_under': svm.SVC(**svc_under_param, random_state=42),\n",
    "          'xgb_under': XGBClassifier(**xgb_under_param, random_state=42)}\n",
    "\n",
    "roc_auc_scores = {}\n",
    "threshold = {}\n",
    "f1_scores = {}\n",
    "accuracy_scores = {}\n",
    "precision_scores = {}\n",
    "recall_scores = {}\n",
    "\n",
    "def roc_curve_plot(model, x, y,x_val, y_val):\n",
    "    figsize = (10, 20)\n",
    "    fig, ax = plt.subplots(figsize=figsize)\n",
    "    ax.grid = False\n",
    "    for key in model:\n",
    "        model[key].fit(x, y)\n",
    "        if hasattr(model[key], 'predict_proba'):\n",
    "            y_pred = model[key].predict_proba(x_val)[:, 1]\n",
    "        elif hasattr(model[key], 'decision_function'):\n",
    "            y_pred = model[key].decision_function(x_val)\n",
    "        else:\n",
    "            raise ValueError(\"Model does not support probability estimates or decision function.\")\n",
    "        \n",
    "        fpr, tpr, thresholds = roc_curve(y_val, y_pred)\n",
    "        roc_auc_scores[key] = roc_auc_score(y_val,y_pred)\n",
    "        f1_scores[key] = f1_score(y_val, model[key].predict(x_val))\n",
    "        accuracy_scores[key] = accuracy_score(y_val, model[key].predict(x_val))\n",
    "        precision_scores[key] = precision_score(y_val, model[key].predict(x_val))\n",
    "        recall_scores[key] = recall_score(y_val, model[key].predict(x_val))\n",
    "        plt.plot(fpr, tpr, label=(key + ' (AUC = %0.3f)' % roc_auc_scores[key]))\n",
    "        gmeans = np.sqrt(tpr * (1-fpr))\n",
    "        ix = np.argmax(gmeans)\n",
    "        threshold[key] = thresholds[ix]\n",
    "    \n",
    "    plt.plot([0, 1], [0, 1], 'k--')\n",
    "    plt.xlabel('False Positive Rate')\n",
    "    plt.ylabel('True Positive Rate')\n",
    "    plt.legend()\n",
    "    plt.show()\n",
    "    return roc_auc_scores, f1_scores, accuracy_scores, precision_scores, recall_scores, threshold\n",
    "\n"
   ]
  },
  {
   "cell_type": "code",
   "execution_count": 37,
   "metadata": {},
   "outputs": [
    {
     "data": {
      "image/png": "[encoded data removed]",
      "text/plain": [
       "<Figure size 1000x2000 with 1 Axes>"
      ]
     },
     "metadata": {},
     "output_type": "display_data"
    },
    {
     "data": {
      "text/plain": [
       "({'lr_under': 0.9533721048872564,\n",
       "  'lr_over': 0.9571472298745026,\n",
       "  'rf_under': 0.9709213345576984,\n",
       "  'svm_under': 0.9718396082032446,\n",
       "  'xgb_under': 0.9726558514437302},\n",
       " {'lr_under': 0.9025641025641026,\n",
       "  'lr_over': 0.9128205128205129,\n",
       "  'rf_under': 0.9130434782608696,\n",
       "  'svm_under': 0.9021739130434783,\n",
       "  'xgb_under': 0.9381443298969072},\n",
       " {'lr_under': 0.9040404040404041,\n",
       "  'lr_over': 0.9141414141414141,\n",
       "  'rf_under': 0.9191919191919192,\n",
       "  'svm_under': 0.9090909090909091,\n",
       "  'xgb_under': 0.9393939393939394},\n",
       " {'lr_under': 0.9166666666666666,\n",
       "  'lr_over': 0.9270833333333334,\n",
       "  'rf_under': 0.9882352941176471,\n",
       "  'svm_under': 0.9764705882352941,\n",
       "  'xgb_under': 0.9578947368421052},\n",
       " {'lr_under': 0.8888888888888888,\n",
       "  'lr_over': 0.898989898989899,\n",
       "  'rf_under': 0.8484848484848485,\n",
       "  'svm_under': 0.8383838383838383,\n",
       "  'xgb_under': 0.9191919191919192},\n",
       " {'lr_under': 0.9034681865063905,\n",
       "  'lr_over': 0.9238506867452367,\n",
       "  'rf_under': 0.49044442850744197,\n",
       "  'svm_under': -0.22137254973322373,\n",
       "  'xgb_under': 0.62589735})"
      ]
     },
     "execution_count": 37,
     "metadata": {},
     "output_type": "execute_result"
    }
   ],
   "source": [
    "roc_curve_plot(models, X_train_rus, y_train_rus, x_val_rus, y_val_rus)"
   ]
  },
  {
   "cell_type": "code",
   "execution_count": 38,
   "metadata": {},
   "outputs": [
    {
     "data": {
      "text/html": [
       "<div>\n",
       "<style scoped>\n",
       "    .dataframe tbody tr th:only-of-type {\n",
       "        vertical-align: middle;\n",
       "    }\n",
       "\n",
       "    .dataframe tbody tr th {\n",
       "        vertical-align: top;\n",
       "    }\n",
       "\n",
       "    .dataframe thead th {\n",
       "        text-align: right;\n",
       "    }\n",
       "</style>\n",
       "<table border=\"1\" class=\"dataframe\">\n",
       "  <thead>\n",
       "    <tr style=\"text-align: right;\">\n",
       "      <th></th>\n",
       "      <th>name</th>\n",
       "      <th>mean_score</th>\n",
       "      <th>params</th>\n",
       "    </tr>\n",
       "  </thead>\n",
       "  <tbody>\n",
       "    <tr>\n",
       "      <th>0</th>\n",
       "      <td>lr_under</td>\n",
       "      <td>0.981858</td>\n",
       "      <td>{'C': 100.0, 'penalty': 'l2', 'tol': 0.001}</td>\n",
       "    </tr>\n",
       "    <tr>\n",
       "      <th>1</th>\n",
       "      <td>lr_over</td>\n",
       "      <td>0.992529</td>\n",
       "      <td>{'tol': 0.01, 'penalty': 'l2', 'C': 1000.0}</td>\n",
       "    </tr>\n",
       "    <tr>\n",
       "      <th>2</th>\n",
       "      <td>rf_under</td>\n",
       "      <td>0.982545</td>\n",
       "      <td>{'n_estimators': 1000, 'min_samples_split': 10...</td>\n",
       "    </tr>\n",
       "    <tr>\n",
       "      <th>3</th>\n",
       "      <td>svm_under</td>\n",
       "      <td>0.967763</td>\n",
       "      <td>{'C': 1.0, 'gamma': 'scale', 'kernel': 'rbf'}</td>\n",
       "    </tr>\n",
       "    <tr>\n",
       "      <th>4</th>\n",
       "      <td>xgb_under</td>\n",
       "      <td>0.979077</td>\n",
       "      <td>{'subsample': 1.0, 'n_estimators': 100, 'max_d...</td>\n",
       "    </tr>\n",
       "  </tbody>\n",
       "</table>\n",
       "</div>"
      ],
      "text/plain": [
       "        name  mean_score                                             params\n",
       "0   lr_under    0.981858        {'C': 100.0, 'penalty': 'l2', 'tol': 0.001}\n",
       "1    lr_over    0.992529        {'tol': 0.01, 'penalty': 'l2', 'C': 1000.0}\n",
       "2   rf_under    0.982545  {'n_estimators': 1000, 'min_samples_split': 10...\n",
       "3  svm_under    0.967763      {'C': 1.0, 'gamma': 'scale', 'kernel': 'rbf'}\n",
       "4  xgb_under    0.979077  {'subsample': 1.0, 'n_estimators': 100, 'max_d..."
      ]
     },
     "execution_count": 38,
     "metadata": {},
     "output_type": "execute_result"
    }
   ],
   "source": [
    "# update scores\n",
    "scores\n",
    "\n"
   ]
  },
  {
   "cell_type": "code",
   "execution_count": 39,
   "metadata": {},
   "outputs": [
    {
     "data": {
      "text/plain": [
       "{'lr_under': 0.9025641025641026,\n",
       " 'lr_over': 0.9128205128205129,\n",
       " 'rf_under': 0.9130434782608696,\n",
       " 'svm_under': 0.9021739130434783,\n",
       " 'xgb_under': 0.9381443298969072}"
      ]
     },
     "execution_count": 39,
     "metadata": {},
     "output_type": "execute_result"
    }
   ],
   "source": [
    "f1_scores"
   ]
  },
  {
   "cell_type": "code",
   "execution_count": 40,
   "metadata": {},
   "outputs": [],
   "source": [
    "scores.insert(3,\"roc_auc_score\",roc_auc_scores.values(),True)"
   ]
  },
  {
   "cell_type": "code",
   "execution_count": 41,
   "metadata": {},
   "outputs": [],
   "source": [
    "scores.insert(4,\"f1_scores\",f1_scores.values(),True)\n"
   ]
  },
  {
   "cell_type": "code",
   "execution_count": 42,
   "metadata": {},
   "outputs": [],
   "source": [
    "scores.insert(5,\"accuracy_scores\",accuracy_scores.values(),True)\n",
    "scores.insert(6,\"precision_scores\",precision_scores.values(),True)\n",
    "scores.insert(7,\"recall_scores\",recall_scores.values(),True)\n",
    "\n"
   ]
  },
  {
   "cell_type": "code",
   "execution_count": 43,
   "metadata": {},
   "outputs": [],
   "source": [
    "scores.insert(8,\"threshold\",threshold.values(),True)"
   ]
  },
  {
   "cell_type": "markdown",
   "metadata": {},
   "source": [
    "We droped LR_Over as we no longer was using RandomOverSampling for any of the models as it was taking too long to load."
   ]
  },
  {
   "cell_type": "code",
   "execution_count": 44,
   "metadata": {},
   "outputs": [],
   "source": [
    "scores = scores.drop(index=1)"
   ]
  },
  {
   "cell_type": "code",
   "execution_count": 45,
   "metadata": {},
   "outputs": [
    {
     "data": {
      "text/html": [
       "<div>\n",
       "<style scoped>\n",
       "    .dataframe tbody tr th:only-of-type {\n",
       "        vertical-align: middle;\n",
       "    }\n",
       "\n",
       "    .dataframe tbody tr th {\n",
       "        vertical-align: top;\n",
       "    }\n",
       "\n",
       "    .dataframe thead th {\n",
       "        text-align: right;\n",
       "    }\n",
       "</style>\n",
       "<table border=\"1\" class=\"dataframe\">\n",
       "  <thead>\n",
       "    <tr style=\"text-align: right;\">\n",
       "      <th></th>\n",
       "      <th>name</th>\n",
       "      <th>mean_score</th>\n",
       "      <th>params</th>\n",
       "      <th>roc_auc_score</th>\n",
       "      <th>f1_scores</th>\n",
       "      <th>accuracy_scores</th>\n",
       "      <th>precision_scores</th>\n",
       "      <th>recall_scores</th>\n",
       "      <th>threshold</th>\n",
       "    </tr>\n",
       "  </thead>\n",
       "  <tbody>\n",
       "    <tr>\n",
       "      <th>0</th>\n",
       "      <td>lr_under</td>\n",
       "      <td>0.981858</td>\n",
       "      <td>{'C': 100.0, 'penalty': 'l2', 'tol': 0.001}</td>\n",
       "      <td>0.953372</td>\n",
       "      <td>0.902564</td>\n",
       "      <td>0.904040</td>\n",
       "      <td>0.916667</td>\n",
       "      <td>0.888889</td>\n",
       "      <td>0.903468</td>\n",
       "    </tr>\n",
       "    <tr>\n",
       "      <th>1</th>\n",
       "      <td>rf_under</td>\n",
       "      <td>0.982545</td>\n",
       "      <td>{'n_estimators': 1000, 'min_samples_split': 10...</td>\n",
       "      <td>0.970921</td>\n",
       "      <td>0.913043</td>\n",
       "      <td>0.919192</td>\n",
       "      <td>0.988235</td>\n",
       "      <td>0.848485</td>\n",
       "      <td>0.490444</td>\n",
       "    </tr>\n",
       "    <tr>\n",
       "      <th>2</th>\n",
       "      <td>svm_under</td>\n",
       "      <td>0.967763</td>\n",
       "      <td>{'C': 1.0, 'gamma': 'scale', 'kernel': 'rbf'}</td>\n",
       "      <td>0.971840</td>\n",
       "      <td>0.902174</td>\n",
       "      <td>0.909091</td>\n",
       "      <td>0.976471</td>\n",
       "      <td>0.838384</td>\n",
       "      <td>-0.221373</td>\n",
       "    </tr>\n",
       "    <tr>\n",
       "      <th>3</th>\n",
       "      <td>xgb_under</td>\n",
       "      <td>0.979077</td>\n",
       "      <td>{'subsample': 1.0, 'n_estimators': 100, 'max_d...</td>\n",
       "      <td>0.972656</td>\n",
       "      <td>0.938144</td>\n",
       "      <td>0.939394</td>\n",
       "      <td>0.957895</td>\n",
       "      <td>0.919192</td>\n",
       "      <td>0.625897</td>\n",
       "    </tr>\n",
       "  </tbody>\n",
       "</table>\n",
       "</div>"
      ],
      "text/plain": [
       "        name  mean_score                                             params  \\\n",
       "0   lr_under    0.981858        {'C': 100.0, 'penalty': 'l2', 'tol': 0.001}   \n",
       "1   rf_under    0.982545  {'n_estimators': 1000, 'min_samples_split': 10...   \n",
       "2  svm_under    0.967763      {'C': 1.0, 'gamma': 'scale', 'kernel': 'rbf'}   \n",
       "3  xgb_under    0.979077  {'subsample': 1.0, 'n_estimators': 100, 'max_d...   \n",
       "\n",
       "   roc_auc_score  f1_scores  accuracy_scores  precision_scores  recall_scores  \\\n",
       "0       0.953372   0.902564         0.904040          0.916667       0.888889   \n",
       "1       0.970921   0.913043         0.919192          0.988235       0.848485   \n",
       "2       0.971840   0.902174         0.909091          0.976471       0.838384   \n",
       "3       0.972656   0.938144         0.939394          0.957895       0.919192   \n",
       "\n",
       "   threshold  \n",
       "0   0.903468  \n",
       "1   0.490444  \n",
       "2  -0.221373  \n",
       "3   0.625897  "
      ]
     },
     "execution_count": 45,
     "metadata": {},
     "output_type": "execute_result"
    }
   ],
   "source": [
    "#update index of scores\n",
    "scores.index = [0,1,2,3]\n",
    "scores"
   ]
  },
  {
   "cell_type": "markdown",
   "metadata": {},
   "source": [
    "From the score dataframe we can see that rf_under and xgb_under are the best models as they have higher mean_score, roc_auc_score, f1_score, accuracy_score compared to other models"
   ]
  },
  {
   "cell_type": "markdown",
   "metadata": {},
   "source": [
    "Confusion Matrix"
   ]
  },
  {
   "cell_type": "code",
   "execution_count": 51,
   "metadata": {},
   "outputs": [
    {
     "data": {
      "text/plain": [
       "198"
      ]
     },
     "execution_count": 51,
     "metadata": {},
     "output_type": "execute_result"
    }
   ],
   "source": [
    "#sum of class in y_val_rus\n",
    "total = y_val_rus.value_counts()\n",
    "totalz = total[0] + total[1]\n",
    "totalz\n"
   ]
  },
  {
   "cell_type": "code",
   "execution_count": 52,
   "metadata": {},
   "outputs": [
    {
     "data": {
      "image/png": "[encoded data removed]",
      "text/plain": [
       "<Figure size 1000x1000 with 2 Axes>"
      ]
     },
     "metadata": {},
     "output_type": "display_data"
    }
   ],
   "source": [
    "#confusion_matrix for rf_under using validation data set \n",
    "rf_under = RandomForestClassifier(**rf_under_param, random_state=42)\n",
    "rf_under.fit(X_train_rus, y_train_rus)\n",
    "y_pred_rf_under = rf_under.predict(x_val_rus)\n",
    "confusion_matrix(y_val_rus, y_pred_rf_under)\n",
    "\n",
    "#true positive of confusion_matrix\n",
    "tn, fp, fn, tp = confusion_matrix(y_val_rus, y_pred_rf_under).ravel()\n",
    "perc = [tn/total[0], fp/total[0], fn/total[1], tp/total[1]]\n",
    "\n",
    "# Reshape perc to a 2-dimensional array\n",
    "perc_array = np.array(perc).reshape((2, 2))\n",
    "\n",
    "#heatmap for confusion_matrix\n",
    "plt.figure(figsize=(10, 10))\n",
    "sns.heatmap(perc_array, annot=True, fmt='.2%', cmap='Blues', xticklabels=['Not Fraud', 'Fraud'], yticklabels=['Not Fraud', 'Fraud'])\n",
    "plt.xlabel('Predicted')\n",
    "plt.ylabel('Actual')\n",
    "plt.show()\n",
    "\n"
   ]
  },
  {
   "cell_type": "code",
   "execution_count": 53,
   "metadata": {},
   "outputs": [
    {
     "data": {
      "image/png": "[encoded data removed]",
      "text/plain": [
       "<Figure size 1000x1000 with 2 Axes>"
      ]
     },
     "metadata": {},
     "output_type": "display_data"
    }
   ],
   "source": [
    "#confusion_matrix for xgb_under using validation data set\n",
    "xgb_under = XGBClassifier(**xgb_under_param, random_state=42)\n",
    "xgb_under.fit(X_train_rus, y_train_rus)\n",
    "y_pred_xgb_under = xgb_under.predict(x_val_rus)\n",
    "confusion_matrix(y_val_rus, y_pred_xgb_under)\n",
    "\n",
    "#true positive of confusion_matrix\n",
    "tn, fp, fn, tp = confusion_matrix(y_val_rus, y_pred_xgb_under).ravel()\n",
    "perc = [tn/total[0], fp/total[0], fn/total[1], tp/total[1]]\n",
    "\n",
    "# Reshape perc to a 2-dimensional array\n",
    "perc_array = np.array(perc).reshape((2, 2))\n",
    "\n",
    "#heatmap for confusion_matrix\n",
    "plt.figure(figsize=(10, 10))\n",
    "sns.heatmap(perc_array, annot=True, fmt='.2%', cmap='Blues', xticklabels=['Not Fraud', 'Fraud'], yticklabels=['Not Fraud', 'Fraud'])\n",
    "plt.xlabel('Predicted')\n",
    "plt.ylabel('Actual')\n",
    "plt.show()\n"
   ]
  },
  {
   "cell_type": "code",
   "execution_count": 54,
   "metadata": {},
   "outputs": [
    {
     "data": {
      "image/png": "[encoded data removed]",
      "text/plain": [
       "<Figure size 1000x1000 with 1 Axes>"
      ]
     },
     "metadata": {},
     "output_type": "display_data"
    }
   ],
   "source": [
    "#area under the aupc curve for rf_under and xgb_under\n",
    "y_pred_rf_under = rf_under.predict_proba(x_val_rus)[:, 1]\n",
    "y_pred_xgb_under = xgb_under.predict_proba(x_val_rus)[:, 1]\n",
    "fpr_rf_under, tpr_rf_under, _ = roc_curve(y_val_rus, y_pred_rf_under)\n",
    "fpr_xgb_under, tpr_xgb_under, _ = roc_curve(y_val_rus, y_pred_xgb_under)\n",
    "roc_auc_rf_under = roc_auc_score(y_val_rus, y_pred_rf_under)\n",
    "roc_auc_xgb_under = roc_auc_score(y_val_rus, y_pred_xgb_under)\n",
    "plt.figure(figsize=(10, 10))\n",
    "plt.plot(fpr_rf_under, tpr_rf_under, label='RF (AUC = %0.3f)' % roc_auc_rf_under)\n",
    "plt.plot(fpr_xgb_under, tpr_xgb_under, label='XGB (AUC = %0.3f)' % roc_auc_xgb_under)\n",
    "plt.plot([0, 1], [0, 1], 'k--')\n",
    "plt.xlabel('False Positive Rate')\n",
    "plt.ylabel('True Positive Rate')\n",
    "plt.legend()\n",
    "plt.show()\n"
   ]
  }
 ],
 "metadata": {
  "kernelspec": {
   "display_name": "Python 3",
   "language": "python",
   "name": "python3"
  },
  "language_info": {
   "codemirror_mode": {
    "name": "ipython",
    "version": 3
   },
   "file_extension": ".py",
   "mimetype": "text/x-python",
   "name": "python",
   "nbconvert_exporter": "python",
   "pygments_lexer": "ipython3",
   "version": "3.10.5"
  },
  "orig_nbformat": 4
 },
 "nbformat": 4,
 "nbformat_minor": 2
}
